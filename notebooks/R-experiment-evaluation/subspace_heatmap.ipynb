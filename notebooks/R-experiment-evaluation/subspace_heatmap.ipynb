{
 "cells": [
  {
   "cell_type": "code",
   "execution_count": 1,
   "metadata": {},
   "outputs": [
    {
     "name": "stderr",
     "output_type": "stream",
     "text": [
      "── \u001b[1mAttaching packages\u001b[22m ─────────────────────────────────────── tidyverse 1.2.1 ──\n",
      "\u001b[32m✔\u001b[39m \u001b[34mggplot2\u001b[39m 3.2.1     \u001b[32m✔\u001b[39m \u001b[34mpurrr  \u001b[39m 0.3.2\n",
      "\u001b[32m✔\u001b[39m \u001b[34mtibble \u001b[39m 2.1.3     \u001b[32m✔\u001b[39m \u001b[34mdplyr  \u001b[39m 0.8.3\n",
      "\u001b[32m✔\u001b[39m \u001b[34mtidyr  \u001b[39m 0.8.3     \u001b[32m✔\u001b[39m \u001b[34mstringr\u001b[39m 1.4.0\n",
      "\u001b[32m✔\u001b[39m \u001b[34mreadr  \u001b[39m 1.3.1     \u001b[32m✔\u001b[39m \u001b[34mforcats\u001b[39m 0.4.0\n",
      "── \u001b[1mConflicts\u001b[22m ────────────────────────────────────────── tidyverse_conflicts() ──\n",
      "\u001b[31m✖\u001b[39m \u001b[34mdplyr\u001b[39m::\u001b[32mfilter()\u001b[39m masks \u001b[34mstats\u001b[39m::filter()\n",
      "\u001b[31m✖\u001b[39m \u001b[34mdplyr\u001b[39m::\u001b[32mlag()\u001b[39m    masks \u001b[34mstats\u001b[39m::lag()\n",
      "\n",
      "Attaching package: ‘assertthat’\n",
      "\n",
      "The following object is masked from ‘package:tibble’:\n",
      "\n",
      "    has_name\n",
      "\n"
     ]
    }
   ],
   "source": [
    "library(tidyverse)\n",
    "library(assertthat)\n",
    "library(xtable)"
   ]
  },
  {
   "cell_type": "code",
   "execution_count": 2,
   "metadata": {},
   "outputs": [],
   "source": [
    "plot_theme <- theme_classic() + \n",
    "    theme(strip.background = element_blank(),\n",
    "          plot.title = element_text(hjust = 0.5),\n",
    "          plot.subtitle = element_text(hjust = 0.5))"
   ]
  },
  {
   "cell_type": "code",
   "execution_count": 3,
   "metadata": {},
   "outputs": [],
   "source": [
    "experiment_hash <- \"9478936085490997477\""
   ]
  },
  {
   "cell_type": "code",
   "execution_count": 4,
   "metadata": {},
   "outputs": [],
   "source": [
    "path <- paste0(\"../../data/output/single_classification_export/\", experiment_hash, \"_classifications.csv\")\n",
    "data <- read_csv(path, col_types = cols(.default = \"i\"))"
   ]
  },
  {
   "cell_type": "code",
   "execution_count": 5,
   "metadata": {},
   "outputs": [
    {
     "data": {
      "image/png": "[encoded data removed]",
      "text/plain": [
       "plot without title"
      ]
     },
     "metadata": {},
     "output_type": "display_data"
    }
   ],
   "source": [
    "options(repr.plot.width=8, repr.plot.height=2.3)\n",
    "\n",
    "data %>% \n",
    "    mutate(id = 1:n()) %>%\n",
    "    filter(rowSums(select(., -id)) > 0) %>%\n",
    "    gather(key=\"subspace\", value=\"class\", -id) %>%\n",
    "    mutate(class = ifelse(class == 1, \"outlier\", \"inlier\")) %>%\n",
    "ggplot(aes(factor(id), factor(subspace))) +\n",
    "    geom_tile(aes(fill=class, width=0.85, height=0.85)) +\n",
    "    labs(x=\"Observation\", y=\"Subspace\", fill=\"\") +\n",
    "    scale_fill_manual(values =c(\"lightgray\", \"steelblue\")) +\n",
    "    plot_theme + \n",
    "    theme(axis.line = element_blank(),\n",
    "          axis.text.x = element_text(angle = 90, hjust = 1.0, vjust = 0.5),\n",
    "          legend.key.width = unit(1.2, \"line\"),\n",
    "          legend.key.height = unit(1, \"line\"),\n",
    "          legend.text=element_text(size=14),\n",
    "          axis.text=element_text(size=12),\n",
    "          axis.title=element_text(size=14),\n",
    "          axis.title.x = element_text(margin = margin(t = 10, r = 0, b = 0, l = 0)),\n",
    "          axis.title.y = element_text(margin = margin(t = 0, r = 10, b = 0, l = 0)))"
   ]
  },
  {
   "cell_type": "code",
   "execution_count": 6,
   "metadata": {},
   "outputs": [],
   "source": [
    "ggsave(\"../plots/classification_overview.pdf\", \n",
    "       width = 7,\n",
    "       height = 2.7,\n",
    "       plot = last_plot(), device = \"pdf\")"
   ]
  },
  {
   "cell_type": "code",
   "execution_count": 7,
   "metadata": {},
   "outputs": [],
   "source": [
    "path <- paste0(\"../single_classification_export/\", experiment_hash, \"_informativeness.csv\")\n",
    "data <- read_csv(path, col_types = cols(.default = \"d\"))"
   ]
  }
 ],
 "metadata": {
  "kernelspec": {
   "display_name": "R",
   "language": "R",
   "name": "ir"
  },
  "language_info": {
   "codemirror_mode": "r",
   "file_extension": ".r",
   "mimetype": "text/x-r-source",
   "name": "R",
   "pygments_lexer": "r",
   "version": "3.6.1"
  }
 },
 "nbformat": 4,
 "nbformat_minor": 4
}
